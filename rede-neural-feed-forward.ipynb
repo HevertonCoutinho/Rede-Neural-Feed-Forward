{
  "nbformat": 4,
  "nbformat_minor": 0,
  "metadata": {
    "colab": {
      "provenance": []
    },
    "kernelspec": {
      "name": "python3",
      "display_name": "Python 3"
    },
    "language_info": {
      "name": "python"
    }
  },
  "cells": [
    {
      "cell_type": "markdown",
      "metadata": {
        "id": "vVq4lHYxVMHn"
      },
      "source": [
        "# Problema\n",
        "\n",
        "Vamos treinar a rede neural de forma que ela possa prever o valor de saída correto quando fornecida com um novo conjunto de dados."
      ]
    },
    {
      "cell_type": "code",
      "metadata": {
        "id": "DUiKrqr6lS3b"
      },
      "source": [
        "import numpy as np"
      ],
      "execution_count": 1,
      "outputs": []
    },
    {
      "cell_type": "code",
      "metadata": {
        "id": "a_bKnkwDV2Yl"
      },
      "source": [
        "#Matrix (4x3)\n",
        "treinamento_entrada = np.array([[0, 0, 1],\n",
        "                                [1, 1, 1], \n",
        "                                [1, 0, 1], \n",
        "                                [0, 1, 1],])"
      ],
      "execution_count": 5,
      "outputs": []
    },
    {
      "cell_type": "code",
      "metadata": {
        "colab": {
          "base_uri": "https://localhost:8080/"
        },
        "id": "julllhp8WcGx",
        "outputId": "d88ceb63-6116-4eb3-f10a-14243622ae67"
      },
      "source": [
        "type(treinamento_entrada)"
      ],
      "execution_count": 6,
      "outputs": [
        {
          "output_type": "execute_result",
          "data": {
            "text/plain": [
              "numpy.ndarray"
            ]
          },
          "metadata": {},
          "execution_count": 6
        }
      ]
    },
    {
      "cell_type": "code",
      "metadata": {
        "colab": {
          "base_uri": "https://localhost:8080/"
        },
        "id": "_KKP96buWeYO",
        "outputId": "b3a188c9-6f25-4419-89ec-dda0faaa87ea"
      },
      "source": [
        "treinamento_entrada"
      ],
      "execution_count": 7,
      "outputs": [
        {
          "output_type": "execute_result",
          "data": {
            "text/plain": [
              "array([[0, 0, 1],\n",
              "       [1, 1, 1],\n",
              "       [1, 0, 1],\n",
              "       [0, 1, 1]])"
            ]
          },
          "metadata": {},
          "execution_count": 7
        }
      ]
    },
    {
      "cell_type": "code",
      "metadata": {
        "id": "LG4LwJu6WhFC"
      },
      "source": [
        "treinamento_resultado = np.array([[0, 1, 1, 0]]).T"
      ],
      "execution_count": 8,
      "outputs": []
    },
    {
      "cell_type": "code",
      "metadata": {
        "id": "yFrFuayBXC-_"
      },
      "source": [
        "treinamento_resultado"
      ],
      "execution_count": null,
      "outputs": []
    },
    {
      "cell_type": "code",
      "metadata": {
        "id": "VntX-WmqXOQ0"
      },
      "source": [
        "np.random.seed(1)"
      ],
      "execution_count": 9,
      "outputs": []
    },
    {
      "cell_type": "code",
      "metadata": {
        "id": "FDEXg80GXtR2"
      },
      "source": [
        "pesos_sinapticos = 2 * np.random.random((3,1)) - 1"
      ],
      "execution_count": 10,
      "outputs": []
    },
    {
      "cell_type": "code",
      "metadata": {
        "colab": {
          "base_uri": "https://localhost:8080/"
        },
        "id": "OiHm5p7uX7pY",
        "outputId": "336efced-02bd-4a03-d60c-f0734e51c6e6"
      },
      "source": [
        "pesos_sinapticos"
      ],
      "execution_count": 11,
      "outputs": [
        {
          "output_type": "execute_result",
          "data": {
            "text/plain": [
              "array([[-0.16595599],\n",
              "       [ 0.44064899],\n",
              "       [-0.99977125]])"
            ]
          },
          "metadata": {},
          "execution_count": 11
        }
      ]
    },
    {
      "cell_type": "code",
      "metadata": {
        "id": "ITeTwLFwX81b"
      },
      "source": [
        "def sigmoid(x):\n",
        "  return 1/(1 + np.exp(-x))"
      ],
      "execution_count": 12,
      "outputs": []
    },
    {
      "cell_type": "code",
      "metadata": {
        "id": "TYGhD0spYsVv"
      },
      "source": [
        "def sigmoid_derivate(x):\n",
        "  return x * (1-x)"
      ],
      "execution_count": 13,
      "outputs": []
    },
    {
      "cell_type": "code",
      "metadata": {
        "id": "Xr57EX-HZaCl"
      },
      "source": [
        "for i in range(10000):\n",
        "  input_layer = treinamento_entrada\n",
        "  output = sigmoid(np.dot(input_layer, pesos_sinapticos))\n",
        "\n",
        "  erro = treinamento_resultado - output\n",
        "  ajuste = erro * sigmoid_derivate(output)\n",
        "\n",
        "  pesos_sinapticos += np.dot(input_layer.T, ajuste)"
      ],
      "execution_count": 14,
      "outputs": []
    },
    {
      "cell_type": "code",
      "metadata": {
        "colab": {
          "base_uri": "https://localhost:8080/"
        },
        "id": "ckD2XbM2Z3d-",
        "outputId": "d34cb0bc-9186-45a2-851a-5cea8c18f029"
      },
      "source": [
        "pesos_sinapticos"
      ],
      "execution_count": 15,
      "outputs": [
        {
          "output_type": "execute_result",
          "data": {
            "text/plain": [
              "array([[ 9.67299303],\n",
              "       [-0.2078435 ],\n",
              "       [-4.62963669]])"
            ]
          },
          "metadata": {},
          "execution_count": 15
        }
      ]
    },
    {
      "cell_type": "code",
      "metadata": {
        "colab": {
          "base_uri": "https://localhost:8080/"
        },
        "id": "XXa_acDYbwpN",
        "outputId": "475803ab-5fe9-4425-c982-260a926dbb66"
      },
      "source": [
        "print(output)"
      ],
      "execution_count": 16,
      "outputs": [
        {
          "output_type": "stream",
          "name": "stdout",
          "text": [
            "[[0.00966449]\n",
            " [0.99211957]\n",
            " [0.99358898]\n",
            " [0.00786506]]\n"
          ]
        }
      ]
    },
    {
      "cell_type": "code",
      "metadata": {
        "id": "Qi3-Ec8Hb_7a"
      },
      "source": [
        "0, 1, 1, 0"
      ],
      "execution_count": null,
      "outputs": []
    },
    {
      "cell_type": "code",
      "source": [
        "# Nova situação para prever o dado de saída\n",
        "nova_situacao = np.array([1, 0, 0])\n",
        "nova_situacao = np.reshape(nova_situacao, (1, 3))"
      ],
      "metadata": {
        "id": "MrBqsj9xDdCy"
      },
      "execution_count": 17,
      "outputs": []
    },
    {
      "cell_type": "code",
      "source": [
        "# Predição do dado de saída\n",
        "predicao = sigmoid(np.dot(nova_situacao, pesos_sinapticos))"
      ],
      "metadata": {
        "id": "JSqyqOThDfx3"
      },
      "execution_count": 18,
      "outputs": []
    },
    {
      "cell_type": "code",
      "source": [
        "print(predicao)"
      ],
      "metadata": {
        "id": "GPg3rHqhDipu",
        "outputId": "e58a438f-5690-4765-eb57-a64891ba35ca",
        "colab": {
          "base_uri": "https://localhost:8080/"
        }
      },
      "execution_count": 19,
      "outputs": [
        {
          "output_type": "stream",
          "name": "stdout",
          "text": [
            "[[0.99993704]]\n"
          ]
        }
      ]
    }
  ]
}
